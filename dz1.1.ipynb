{
 "cells": [
  {
   "cell_type": "markdown",
   "metadata": {},
   "source": [
    "**Задание 1**. Даны 2 строки: *long_phrase* и *short_phrase*. \n",
    "Напишите код, который проверяет действительно ли длинная фраза *long_phrase* длиннее короткой *short_phrase*. И выводит *True* или *False* в зависимости от результата сравнения."
   ]
  },
  {
   "cell_type": "code",
   "execution_count": 1,
   "metadata": {},
   "outputs": [],
   "source": [
    "long_phrase = 'Насколько проще было бы писать программы, если бы не заказчики'\n",
    "short_phrase = '640Кб должно хватить для любых задач. Билл Гейтс (по легенде)'"
   ]
  },
  {
   "cell_type": "code",
   "execution_count": 1,
   "metadata": {},
   "outputs": [
    {
     "data": {
      "text/plain": [
       "True"
      ]
     },
     "execution_count": 1,
     "metadata": {},
     "output_type": "execute_result"
    }
   ],
   "source": [
    "len (\"Насколько проще было бы писать программы, если бы не заказчики\") > \\\n",
    "len (\"640Кб должно хватить для любых задач. Билл Гейтс (по легенде)\")"
   ]
  },
  {
   "cell_type": "markdown",
   "metadata": {},
   "source": [
    "**Задание 2**. Дано значение объема файла в байтах. Напишите перевод этого значения в мегабайты в формате: \"*Объем файла равен 213.68Mb*\""
   ]
  },
  {
   "cell_type": "code",
   "execution_count": 2,
   "metadata": {},
   "outputs": [
    {
     "name": "stdout",
     "output_type": "stream",
     "text": [
      "Объём файла =\n"
     ]
    },
    {
     "data": {
      "text/plain": [
       "213.68"
      ]
     },
     "execution_count": 2,
     "metadata": {},
     "output_type": "execute_result"
    }
   ],
   "source": [
    "print (\"Объём файла =\")\n",
    "213680000 / 1000000"
   ]
  },
  {
   "cell_type": "markdown",
   "metadata": {},
   "source": [
    "**Задание 3**. Разработать приложение для определения знака зодиака по дате рождения. Пример:\n",
    "\n",
    "Введите месяц: март\n",
    "\n",
    "Введите число: 6\n",
    "\n",
    "Вывод:\n",
    "Рыбы"
   ]
  },
  {
   "cell_type": "code",
   "execution_count": null,
   "metadata": {},
   "outputs": [],
   "source": [
    "month = input('Введите месяц')\n",
    "day = int(input('Введите число'))\n",
    "if (month == 'Март' and day >= 22) or (month == 'Апрель' and day <=21):\n",
    "    print ('Овен')\n",
    "elif (month == 'Апрель' and day >= 22) or (month == 'Май' and day <=21):\n",
    "    print ('Телец')\n",
    "elif (month == 'Май' and day >= 22) or (month == 'Июнь' and day <=21):\n",
    "    print ('Близнецы')\n",
    "elif (month == 'Июнь' and day >= 22) or (month == 'Июль' and day <=21):\n",
    "    print ('Рак')\n",
    "elif (month == 'Июль' and day >= 22) or (month == 'Август' and day <=21):\n",
    "    print ('Лев')\n",
    "elif (month == 'Август' and day >= 22) or (month == 'Сентябрь' and day <=21):\n",
    "    print ('Дева')\n",
    "elif (month == 'Сентябрь' and day >= 22) or (month == 'Октябрь' and day <=21):\n",
    "    print ('Весы')\n",
    "elif (month == 'Октябрь' and day >= 22) or (month == 'Ноябрь' and day <=21):\n",
    "    print ('Скорпион')\n",
    "elif (month == 'Ноябрь' and day >= 22) or (month == 'Декабрь' and day <=21):\n",
    "    print ('Стрелец')\n",
    "elif (month == 'Декабрь' and day >= 22) or (month == 'Январь' and day <=21):\n",
    "    print ('Козерог')\n",
    "elif (month == 'Январь' and day >= 22) or (month == 'Февраль' and day <=21):\n",
    "    print ('Водолей')\n",
    "elif (month == 'Февраль' and day >= 22) or (month == 'Март' and day <=21):\n",
    "    print ('Рыбы')"
   ]
  },
  {
   "cell_type": "markdown",
   "metadata": {},
   "source": [
    "**Задание 4**. Нужно разработать приложение для финансового планирования.\n",
    "Приложение учитывает сколько уходит на ипотеку, \"на жизнь\" и сколько нужно отложить на пенсию.\n",
    "Пользователь вводит:\n",
    "- заработанную плату в месяц.\n",
    "- сколько процентов от ЗП уходит на ипотеку.\n",
    "- сколько процентов от ЗП уходит \"на жизнь\".\n",
    "- сколько раз приходит премия в год.\n",
    "\n",
    "Остальная часть заработанной платы откладывается на пенсию.\n",
    "\n",
    "Также пользователю приходит премия в размере зарплаты, от которой половина уходит на отпуск, а вторая половина откладывается.\n",
    "\n",
    "Программа должна учитывать сколько премий было в год.\n",
    "\n",
    "Нужно вывести сколько денег тратит пользователь на ипотеку и сколько он накопит за год.\n",
    "\n",
    "Пример:\n",
    "\n",
    "Введите заработанную плату в месяц: 100000\n",
    "\n",
    "Введите сколько процентов уходит на ипотеку: 30\n",
    "\n",
    "Введите сколько процентов уходит на жизнь: 50\n",
    "\n",
    "Введите количество премий за год: 2\n",
    "\n",
    "Вывод:\n",
    "На ипотеку было потрачено: 360000 рублей\n",
    "Было накоплено: 340000 рублей"
   ]
  },
  {
   "cell_type": "code",
   "execution_count": null,
   "metadata": {},
   "outputs": [],
   "source": [
    "salary = int(input('Введите заработанную плату в месяц'))\n",
    "mortgage = int(input('Введите сколько процентов уходит на ипотеку'))\n",
    "life = int(input('Введите сколько процентов уходит на жизнь'))\n",
    "prize = int(input('Введите количество премий за год'))\n",
    "a = salary * 12\n",
    "b = salary * prize\n",
    "c = a + b\n",
    "d = mortgage + life\n",
    "e = c / 100 * mortgage \n",
    "g = c / 100 * life\n",
    "print ('Было потрачено на ипотеку' + str (c / 100 * mortgage))\n",
    "print ('Было накоплено' + str (c - e - g))"
   ]
  }
 ],
 "metadata": {
  "kernelspec": {
   "display_name": "Python 3",
   "language": "python",
   "name": "python3"
  },
  "language_info": {
   "codemirror_mode": {
    "name": "ipython",
    "version": 3
   },
   "file_extension": ".py",
   "mimetype": "text/x-python",
   "name": "python",
   "nbconvert_exporter": "python",
   "pygments_lexer": "ipython3",
   "version": "3.7.4"
  }
 },
 "nbformat": 4,
 "nbformat_minor": 2
}
